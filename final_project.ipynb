{
 "cells": [
  {
   "cell_type": "markdown",
   "metadata": {},
   "source": [
    "# Final Project: Exploratory Analysis of the Disney Character Success Datasets\n",
    "\n",
    "Author: Noah Sheridan"
   ]
  },
  {
   "cell_type": "markdown",
   "metadata": {},
   "source": [
    "## Introduction\n",
    "\n",
    "### Questions of Interest\n",
    "\n",
    "This analysis will seek to answer two main questions articulated below.\n",
    "\n",
    "* How have the contributions of Disney's business segments evolved over time?\n",
    "    * I am interested to see whether or not Disney's main revenue driver is the Studio business segment, or whether other segments drive the lion's share of revenue. \n",
    "    * I am also interested to see if business segments that favour digital media (e.g. Media Networks and Interactive) have grown at a faster rate than the more traditional business segments (Studio, Parks & Resorts, and Consumer Products).\n",
    "\n",
    "* Who are the top 5 disney directors based on inflation adjusted gross revenue and during which time periods were their movies released?\n",
    "    * I am interested to see if the directors are clustered in similar time periods, or if they are spread out over the 80 years of data.\n",
    "\n",
    "### Dataset description\n",
    "\n",
    "The data source found [here](https://data.world/kgarrett/disney-character-success-00-16) describes the data as \"Disney characters, box office success & annual gross income\".\n",
    "\n",
    "The dataset is composed of 5 main tables including `disney-characters.csv`, `disney-director.csv`, `disney-voice-actors.csv`, `disney_revenue_1991-2016.csv`, and `disney_movies_total_gross.csv`. This analysis will use the `disney_revenue_1991-2016.csv`, `disney-director.csv`, and `disney_movies_total_gross.csv` datasets, which are described in more detail below.\n",
    "\n",
    "* `disney_revenue_1991-2016.csv`\n",
    "    * This file provides the annual revenue from each of Disney's 5 business units (Studio Entertainment, Consumer Products, Interactive, Parks & Resorts, and Media Networks) along with the total annual revenue for the company from 1991 to 2016.\n",
    "    \n",
    "* `disney_movies_total_gross.csv`\n",
    "    * This file provides the total gross revenue from each movie released, including data from 1937 to 2016. For each movie it includes the title, release date, genre, rating, total gross revenue in nominal dollars, and total gross revenue in real dollars (inflation adjusted to today).\n",
    "\n",
    "* `disney-director.csv`\n",
    "    * This file provides the directors associated with each Disney movie title. This analysis will use this data to enhance the `disney_movies_total_gross.csv` data."
   ]
  },
  {
   "cell_type": "markdown",
   "metadata": {},
   "source": [
    "## Exploratory Data Analysis"
   ]
  },
  {
   "cell_type": "code",
   "execution_count": null,
   "metadata": {},
   "outputs": [],
   "source": []
  },
  {
   "cell_type": "markdown",
   "metadata": {},
   "source": [
    "## Methods & Results"
   ]
  },
  {
   "cell_type": "code",
   "execution_count": null,
   "metadata": {},
   "outputs": [],
   "source": []
  },
  {
   "cell_type": "markdown",
   "metadata": {},
   "source": [
    "Let's begin by importing our key libraries and importing the datasets required"
   ]
  },
  {
   "cell_type": "code",
   "execution_count": 2,
   "metadata": {},
   "outputs": [],
   "source": [
    "# Import librairies\n",
    "import pandas as pd\n",
    "import altair as alt\n",
    "\n",
    "# Import datasets\n",
    "revenue = pd.read_csv(\"data/disney_revenue_1991-2016.csv\")\n",
    "director = pd.read_csv(\"data/disney-director.csv\")\n",
    "gross = pd.read_csv(\"data/disney_movies_total_gross.csv\")\n"
   ]
  },
  {
   "cell_type": "markdown",
   "metadata": {},
   "source": [
    "Let's see what our revenue dataset looks like"
   ]
  },
  {
   "cell_type": "code",
   "execution_count": 3,
   "metadata": {},
   "outputs": [
    {
     "data": {
      "text/html": [
       "<div>\n",
       "<style scoped>\n",
       "    .dataframe tbody tr th:only-of-type {\n",
       "        vertical-align: middle;\n",
       "    }\n",
       "\n",
       "    .dataframe tbody tr th {\n",
       "        vertical-align: top;\n",
       "    }\n",
       "\n",
       "    .dataframe thead th {\n",
       "        text-align: right;\n",
       "    }\n",
       "</style>\n",
       "<table border=\"1\" class=\"dataframe\">\n",
       "  <thead>\n",
       "    <tr style=\"text-align: right;\">\n",
       "      <th></th>\n",
       "      <th>Year</th>\n",
       "      <th>Studio Entertainment[NI 1]</th>\n",
       "      <th>Disney Consumer Products[NI 2]</th>\n",
       "      <th>Disney Interactive[NI 3][Rev 1]</th>\n",
       "      <th>Walt Disney Parks and Resorts</th>\n",
       "      <th>Disney Media Networks</th>\n",
       "      <th>Total</th>\n",
       "    </tr>\n",
       "  </thead>\n",
       "  <tbody>\n",
       "    <tr>\n",
       "      <th>0</th>\n",
       "      <td>1991</td>\n",
       "      <td>2593.0</td>\n",
       "      <td>724.0</td>\n",
       "      <td>NaN</td>\n",
       "      <td>2794.0</td>\n",
       "      <td>NaN</td>\n",
       "      <td>6111</td>\n",
       "    </tr>\n",
       "    <tr>\n",
       "      <th>1</th>\n",
       "      <td>1992</td>\n",
       "      <td>3115.0</td>\n",
       "      <td>1081.0</td>\n",
       "      <td>NaN</td>\n",
       "      <td>3306.0</td>\n",
       "      <td>NaN</td>\n",
       "      <td>7502</td>\n",
       "    </tr>\n",
       "    <tr>\n",
       "      <th>2</th>\n",
       "      <td>1993</td>\n",
       "      <td>3673.4</td>\n",
       "      <td>1415.1</td>\n",
       "      <td>NaN</td>\n",
       "      <td>3440.7</td>\n",
       "      <td>NaN</td>\n",
       "      <td>8529</td>\n",
       "    </tr>\n",
       "    <tr>\n",
       "      <th>3</th>\n",
       "      <td>1994</td>\n",
       "      <td>4793.0</td>\n",
       "      <td>1798.2</td>\n",
       "      <td>NaN</td>\n",
       "      <td>3463.6</td>\n",
       "      <td>359</td>\n",
       "      <td>10414</td>\n",
       "    </tr>\n",
       "    <tr>\n",
       "      <th>4</th>\n",
       "      <td>1995</td>\n",
       "      <td>6001.5</td>\n",
       "      <td>2150.0</td>\n",
       "      <td>NaN</td>\n",
       "      <td>3959.8</td>\n",
       "      <td>414</td>\n",
       "      <td>12525</td>\n",
       "    </tr>\n",
       "  </tbody>\n",
       "</table>\n",
       "</div>"
      ],
      "text/plain": [
       "   Year  Studio Entertainment[NI 1]  Disney Consumer Products[NI 2]  \\\n",
       "0  1991                      2593.0                           724.0   \n",
       "1  1992                      3115.0                          1081.0   \n",
       "2  1993                      3673.4                          1415.1   \n",
       "3  1994                      4793.0                          1798.2   \n",
       "4  1995                      6001.5                          2150.0   \n",
       "\n",
       "   Disney Interactive[NI 3][Rev 1]  Walt Disney Parks and Resorts  \\\n",
       "0                              NaN                         2794.0   \n",
       "1                              NaN                         3306.0   \n",
       "2                              NaN                         3440.7   \n",
       "3                              NaN                         3463.6   \n",
       "4                              NaN                         3959.8   \n",
       "\n",
       "  Disney Media Networks  Total  \n",
       "0                   NaN   6111  \n",
       "1                   NaN   7502  \n",
       "2                   NaN   8529  \n",
       "3                   359  10414  \n",
       "4                   414  12525  "
      ]
     },
     "execution_count": 3,
     "metadata": {},
     "output_type": "execute_result"
    }
   ],
   "source": [
    "# Display top 5 rows in our revenue dataframe\n",
    "revenue.head()"
   ]
  },
  {
   "cell_type": "markdown",
   "metadata": {},
   "source": [
    "It appears that we have a number of NA entries - given we don't have any additional information, we likely want to fill them with zero."
   ]
  },
  {
   "cell_type": "code",
   "execution_count": 4,
   "metadata": {},
   "outputs": [],
   "source": [
    "# Fill NAs in all columns with zero\n",
    "revenue = revenue.fillna(value=0)"
   ]
  },
  {
   "cell_type": "markdown",
   "metadata": {},
   "source": [
    "Our dataframe also has some unconventional names for the columns, let's rename them to something easier to work with."
   ]
  },
  {
   "cell_type": "code",
   "execution_count": 5,
   "metadata": {},
   "outputs": [],
   "source": [
    "# Rename business segment columns to improve readability\n",
    "revenue = revenue.rename(columns={revenue.columns[1]: 'Studio_entertainment',\n",
    "                                  revenue.columns[2]: 'Consumer_products',\n",
    "                                  revenue.columns[3]: 'Interactive',\n",
    "                                  revenue.columns[4]: 'Parks_and_resorts',\n",
    "                                  revenue.columns[5]: 'Media_networks'})"
   ]
  },
  {
   "cell_type": "markdown",
   "metadata": {},
   "source": [
    "The media networks column has numbers stored as strings, so let's clean up that column and convert it to float."
   ]
  },
  {
   "cell_type": "code",
   "execution_count": 6,
   "metadata": {},
   "outputs": [],
   "source": [
    "# Remove commas and blank space from Media_networks column then convert to float to facilitate sum calculations, then refill any NAs with zero\n",
    "revenue = revenue.assign(Media_networks=revenue['Media_networks'].str.strip())\n",
    "revenue = revenue.assign(Media_networks=revenue['Media_networks'].str.replace(\",\", \"\").astype(float))\n",
    "revenue = revenue.fillna(value=0)"
   ]
  },
  {
   "cell_type": "markdown",
   "metadata": {},
   "source": [
    "To answer our first question, we will sum the total revenues from each business segment and compare the totals."
   ]
  },
  {
   "cell_type": "code",
   "execution_count": 7,
   "metadata": {},
   "outputs": [
    {
     "data": {
      "text/plain": [
       "Year                     52091.0\n",
       "Studio_entertainment    161125.9\n",
       "Consumer_products        62185.3\n",
       "Interactive               8564.0\n",
       "Parks_and_resorts       221328.1\n",
       "Media_networks          296187.0\n",
       "Total                   765952.0\n",
       "dtype: float64"
      ]
     },
     "execution_count": 7,
     "metadata": {},
     "output_type": "execute_result"
    }
   ],
   "source": [
    "# Aggregate dataframe by summing each column\n",
    "revenue.agg('sum')"
   ]
  },
  {
   "cell_type": "markdown",
   "metadata": {},
   "source": [
    "It appears that our initial hypothesis was incorrect. The **Studio Entertainment** segment generated 161B in revenue over the full timespan; however, both the **Media Networks** and **Parks & Resorts** segments generated over 200B each over the same timeframe. "
   ]
  },
  {
   "cell_type": "markdown",
   "metadata": {},
   "source": [
    "In order to understand the growth of each business segment over time, we will convert the annual revenues into a percent growth versus a baseline. We will select 1997 as the baseline year because it is the first year where every business segment generated revenue. "
   ]
  },
  {
   "cell_type": "code",
   "execution_count": 8,
   "metadata": {},
   "outputs": [
    {
     "data": {
      "text/html": [
       "<div>\n",
       "<style scoped>\n",
       "    .dataframe tbody tr th:only-of-type {\n",
       "        vertical-align: middle;\n",
       "    }\n",
       "\n",
       "    .dataframe tbody tr th {\n",
       "        vertical-align: top;\n",
       "    }\n",
       "\n",
       "    .dataframe thead th {\n",
       "        text-align: right;\n",
       "    }\n",
       "</style>\n",
       "<table border=\"1\" class=\"dataframe\">\n",
       "  <thead>\n",
       "    <tr style=\"text-align: right;\">\n",
       "      <th></th>\n",
       "      <th>Year</th>\n",
       "      <th>Studio_entertainment</th>\n",
       "      <th>Consumer_products</th>\n",
       "      <th>Interactive</th>\n",
       "      <th>Parks_and_resorts</th>\n",
       "      <th>Media_networks</th>\n",
       "      <th>Total</th>\n",
       "    </tr>\n",
       "  </thead>\n",
       "  <tbody>\n",
       "    <tr>\n",
       "      <th>0</th>\n",
       "      <td>1997</td>\n",
       "      <td>0.000000</td>\n",
       "      <td>0.000000</td>\n",
       "      <td>0.000000</td>\n",
       "      <td>0.000000</td>\n",
       "      <td>0.000000</td>\n",
       "      <td>0.000000</td>\n",
       "    </tr>\n",
       "    <tr>\n",
       "      <th>1</th>\n",
       "      <td>1998</td>\n",
       "      <td>-0.018908</td>\n",
       "      <td>-0.155738</td>\n",
       "      <td>0.494253</td>\n",
       "      <td>0.103311</td>\n",
       "      <td>0.095063</td>\n",
       "      <td>0.022382</td>\n",
       "    </tr>\n",
       "    <tr>\n",
       "      <th>2</th>\n",
       "      <td>1999</td>\n",
       "      <td>-0.062025</td>\n",
       "      <td>-0.198837</td>\n",
       "      <td>0.183908</td>\n",
       "      <td>0.217790</td>\n",
       "      <td>0.151794</td>\n",
       "      <td>0.041338</td>\n",
       "    </tr>\n",
       "    <tr>\n",
       "      <th>3</th>\n",
       "      <td>2000</td>\n",
       "      <td>-0.141384</td>\n",
       "      <td>-0.312004</td>\n",
       "      <td>1.114943</td>\n",
       "      <td>0.356801</td>\n",
       "      <td>0.474241</td>\n",
       "      <td>0.130334</td>\n",
       "    </tr>\n",
       "    <tr>\n",
       "      <th>4</th>\n",
       "      <td>2001</td>\n",
       "      <td>0.003295</td>\n",
       "      <td>-0.315177</td>\n",
       "      <td>-1.000000</td>\n",
       "      <td>0.198444</td>\n",
       "      <td>0.467188</td>\n",
       "      <td>0.147599</td>\n",
       "    </tr>\n",
       "    <tr>\n",
       "      <th>5</th>\n",
       "      <td>2002</td>\n",
       "      <td>-0.073915</td>\n",
       "      <td>-0.354839</td>\n",
       "      <td>-1.000000</td>\n",
       "      <td>0.334464</td>\n",
       "      <td>0.492334</td>\n",
       "      <td>0.128465</td>\n",
       "    </tr>\n",
       "    <tr>\n",
       "      <th>6</th>\n",
       "      <td>2003</td>\n",
       "      <td>0.054863</td>\n",
       "      <td>-0.380222</td>\n",
       "      <td>-1.000000</td>\n",
       "      <td>0.278819</td>\n",
       "      <td>0.677553</td>\n",
       "      <td>0.204156</td>\n",
       "    </tr>\n",
       "    <tr>\n",
       "      <th>7</th>\n",
       "      <td>2004</td>\n",
       "      <td>0.248102</td>\n",
       "      <td>-0.336066</td>\n",
       "      <td>-1.000000</td>\n",
       "      <td>0.545672</td>\n",
       "      <td>0.805888</td>\n",
       "      <td>0.368398</td>\n",
       "    </tr>\n",
       "    <tr>\n",
       "      <th>8</th>\n",
       "      <td>2005</td>\n",
       "      <td>0.086807</td>\n",
       "      <td>-0.437599</td>\n",
       "      <td>-1.000000</td>\n",
       "      <td>0.799561</td>\n",
       "      <td>1.024992</td>\n",
       "      <td>0.421439</td>\n",
       "    </tr>\n",
       "    <tr>\n",
       "      <th>9</th>\n",
       "      <td>2006</td>\n",
       "      <td>0.078499</td>\n",
       "      <td>-0.420148</td>\n",
       "      <td>-1.000000</td>\n",
       "      <td>0.979458</td>\n",
       "      <td>1.203005</td>\n",
       "      <td>0.525609</td>\n",
       "    </tr>\n",
       "    <tr>\n",
       "      <th>10</th>\n",
       "      <td>2007</td>\n",
       "      <td>0.073055</td>\n",
       "      <td>-0.379429</td>\n",
       "      <td>-1.000000</td>\n",
       "      <td>1.119266</td>\n",
       "      <td>1.306961</td>\n",
       "      <td>0.580118</td>\n",
       "    </tr>\n",
       "    <tr>\n",
       "      <th>11</th>\n",
       "      <td>2008</td>\n",
       "      <td>0.052571</td>\n",
       "      <td>-0.361449</td>\n",
       "      <td>3.132184</td>\n",
       "      <td>1.294376</td>\n",
       "      <td>1.431309</td>\n",
       "      <td>0.683932</td>\n",
       "    </tr>\n",
       "    <tr>\n",
       "      <th>12</th>\n",
       "      <td>2009</td>\n",
       "      <td>-0.121043</td>\n",
       "      <td>-0.358805</td>\n",
       "      <td>3.091954</td>\n",
       "      <td>1.127443</td>\n",
       "      <td>1.485281</td>\n",
       "      <td>0.608552</td>\n",
       "    </tr>\n",
       "    <tr>\n",
       "      <th>13</th>\n",
       "      <td>2010</td>\n",
       "      <td>-0.040109</td>\n",
       "      <td>-0.291909</td>\n",
       "      <td>3.373563</td>\n",
       "      <td>1.146191</td>\n",
       "      <td>1.631401</td>\n",
       "      <td>0.693721</td>\n",
       "    </tr>\n",
       "    <tr>\n",
       "      <th>14</th>\n",
       "      <td>2011</td>\n",
       "      <td>-0.090245</td>\n",
       "      <td>-0.193813</td>\n",
       "      <td>4.643678</td>\n",
       "      <td>1.352812</td>\n",
       "      <td>1.869365</td>\n",
       "      <td>0.819650</td>\n",
       "    </tr>\n",
       "    <tr>\n",
       "      <th>15</th>\n",
       "      <td>2012</td>\n",
       "      <td>-0.165592</td>\n",
       "      <td>-0.140137</td>\n",
       "      <td>3.856322</td>\n",
       "      <td>1.576785</td>\n",
       "      <td>1.980067</td>\n",
       "      <td>0.881280</td>\n",
       "    </tr>\n",
       "    <tr>\n",
       "      <th>16</th>\n",
       "      <td>2013</td>\n",
       "      <td>-0.143532</td>\n",
       "      <td>-0.060021</td>\n",
       "      <td>5.114943</td>\n",
       "      <td>1.809533</td>\n",
       "      <td>2.121128</td>\n",
       "      <td>1.004227</td>\n",
       "    </tr>\n",
       "    <tr>\n",
       "      <th>17</th>\n",
       "      <td>2014</td>\n",
       "      <td>0.042544</td>\n",
       "      <td>0.053675</td>\n",
       "      <td>6.465517</td>\n",
       "      <td>2.011368</td>\n",
       "      <td>2.243177</td>\n",
       "      <td>1.172073</td>\n",
       "    </tr>\n",
       "    <tr>\n",
       "      <th>18</th>\n",
       "      <td>2015</td>\n",
       "      <td>0.055150</td>\n",
       "      <td>0.189582</td>\n",
       "      <td>5.747126</td>\n",
       "      <td>2.223375</td>\n",
       "      <td>2.567004</td>\n",
       "      <td>1.334579</td>\n",
       "    </tr>\n",
       "    <tr>\n",
       "      <th>19</th>\n",
       "      <td>2016</td>\n",
       "      <td>0.352385</td>\n",
       "      <td>-1.000000</td>\n",
       "      <td>-1.000000</td>\n",
       "      <td>2.385321</td>\n",
       "      <td>2.632168</td>\n",
       "      <td>1.475504</td>\n",
       "    </tr>\n",
       "  </tbody>\n",
       "</table>\n",
       "</div>"
      ],
      "text/plain": [
       "    Year  Studio_entertainment  Consumer_products  Interactive  \\\n",
       "0   1997              0.000000           0.000000     0.000000   \n",
       "1   1998             -0.018908          -0.155738     0.494253   \n",
       "2   1999             -0.062025          -0.198837     0.183908   \n",
       "3   2000             -0.141384          -0.312004     1.114943   \n",
       "4   2001              0.003295          -0.315177    -1.000000   \n",
       "5   2002             -0.073915          -0.354839    -1.000000   \n",
       "6   2003              0.054863          -0.380222    -1.000000   \n",
       "7   2004              0.248102          -0.336066    -1.000000   \n",
       "8   2005              0.086807          -0.437599    -1.000000   \n",
       "9   2006              0.078499          -0.420148    -1.000000   \n",
       "10  2007              0.073055          -0.379429    -1.000000   \n",
       "11  2008              0.052571          -0.361449     3.132184   \n",
       "12  2009             -0.121043          -0.358805     3.091954   \n",
       "13  2010             -0.040109          -0.291909     3.373563   \n",
       "14  2011             -0.090245          -0.193813     4.643678   \n",
       "15  2012             -0.165592          -0.140137     3.856322   \n",
       "16  2013             -0.143532          -0.060021     5.114943   \n",
       "17  2014              0.042544           0.053675     6.465517   \n",
       "18  2015              0.055150           0.189582     5.747126   \n",
       "19  2016              0.352385          -1.000000    -1.000000   \n",
       "\n",
       "    Parks_and_resorts  Media_networks     Total  \n",
       "0            0.000000        0.000000  0.000000  \n",
       "1            0.103311        0.095063  0.022382  \n",
       "2            0.217790        0.151794  0.041338  \n",
       "3            0.356801        0.474241  0.130334  \n",
       "4            0.198444        0.467188  0.147599  \n",
       "5            0.334464        0.492334  0.128465  \n",
       "6            0.278819        0.677553  0.204156  \n",
       "7            0.545672        0.805888  0.368398  \n",
       "8            0.799561        1.024992  0.421439  \n",
       "9            0.979458        1.203005  0.525609  \n",
       "10           1.119266        1.306961  0.580118  \n",
       "11           1.294376        1.431309  0.683932  \n",
       "12           1.127443        1.485281  0.608552  \n",
       "13           1.146191        1.631401  0.693721  \n",
       "14           1.352812        1.869365  0.819650  \n",
       "15           1.576785        1.980067  0.881280  \n",
       "16           1.809533        2.121128  1.004227  \n",
       "17           2.011368        2.243177  1.172073  \n",
       "18           2.223375        2.567004  1.334579  \n",
       "19           2.385321        2.632168  1.475504  "
      ]
     },
     "execution_count": 8,
     "metadata": {},
     "output_type": "execute_result"
    }
   ],
   "source": [
    "# Filter dataframe on years 1997 and after\n",
    "revenue_pct = revenue[revenue['Year'] >= 1997].reset_index(drop=True)\n",
    "\n",
    "# Override columns with a calculation to determine percent change vs 2017 (revenue in given year / revenue in 1997 baseline year) - 100%\n",
    "for columns in revenue_pct.iloc[:, 1:]:\n",
    "    revenue_pct.loc[:, columns] = (revenue_pct[columns]/revenue_pct.loc[0, columns])-1\n",
    "    \n",
    "# Display dataframe to evaluate results\n",
    "revenue_pct"
   ]
  },
  {
   "cell_type": "markdown",
   "metadata": {},
   "source": [
    "Before we visualize the data, let's drop the first row (because growth in year one will be zero) and drop the last row, as 2015 is the last year that includes data for all business segments."
   ]
  },
  {
   "cell_type": "code",
   "execution_count": 9,
   "metadata": {},
   "outputs": [],
   "source": [
    "# Drop baseline year (2017) and final year (2016) with missing data\n",
    "revenue_pct = revenue_pct[(revenue_pct['Year'] >= 1998) & (revenue_pct['Year'] <= 2015)].reset_index(drop=True)"
   ]
  },
  {
   "cell_type": "markdown",
   "metadata": {},
   "source": [
    "Now, let's plot the data using a bar chart and group each business segment together to view growth trends! In order to facilitate grouping business segments by colour, we first need to melt the data into a long dataframe where business segment is one unique column."
   ]
  },
  {
   "cell_type": "code",
   "execution_count": 10,
   "metadata": {},
   "outputs": [],
   "source": [
    "# Use melt to convert the wide dataframe into a long dataframe, with the old business segment columns converted into one column named Business_segment\n",
    "revenue_melt = revenue_pct.melt(id_vars=['Year'], value_vars=revenue_pct.columns.tolist()[1:], var_name='Business_segment', value_name='Percent_growth')"
   ]
  },
  {
   "cell_type": "code",
   "execution_count": 11,
   "metadata": {},
   "outputs": [
    {
     "data": {
      "text/html": [
       "\n",
       "<div id=\"altair-viz-f553cf1a50944f8bb645aba36d3a90b6\"></div>\n",
       "<script type=\"text/javascript\">\n",
       "  var VEGA_DEBUG = (typeof VEGA_DEBUG == \"undefined\") ? {} : VEGA_DEBUG;\n",
       "  (function(spec, embedOpt){\n",
       "    let outputDiv = document.currentScript.previousElementSibling;\n",
       "    if (outputDiv.id !== \"altair-viz-f553cf1a50944f8bb645aba36d3a90b6\") {\n",
       "      outputDiv = document.getElementById(\"altair-viz-f553cf1a50944f8bb645aba36d3a90b6\");\n",
       "    }\n",
       "    const paths = {\n",
       "      \"vega\": \"https://cdn.jsdelivr.net/npm//vega@5?noext\",\n",
       "      \"vega-lib\": \"https://cdn.jsdelivr.net/npm//vega-lib?noext\",\n",
       "      \"vega-lite\": \"https://cdn.jsdelivr.net/npm//vega-lite@4.17.0?noext\",\n",
       "      \"vega-embed\": \"https://cdn.jsdelivr.net/npm//vega-embed@6?noext\",\n",
       "    };\n",
       "\n",
       "    function maybeLoadScript(lib, version) {\n",
       "      var key = `${lib.replace(\"-\", \"\")}_version`;\n",
       "      return (VEGA_DEBUG[key] == version) ?\n",
       "        Promise.resolve(paths[lib]) :\n",
       "        new Promise(function(resolve, reject) {\n",
       "          var s = document.createElement('script');\n",
       "          document.getElementsByTagName(\"head\")[0].appendChild(s);\n",
       "          s.async = true;\n",
       "          s.onload = () => {\n",
       "            VEGA_DEBUG[key] = version;\n",
       "            return resolve(paths[lib]);\n",
       "          };\n",
       "          s.onerror = () => reject(`Error loading script: ${paths[lib]}`);\n",
       "          s.src = paths[lib];\n",
       "        });\n",
       "    }\n",
       "\n",
       "    function showError(err) {\n",
       "      outputDiv.innerHTML = `<div class=\"error\" style=\"color:red;\">${err}</div>`;\n",
       "      throw err;\n",
       "    }\n",
       "\n",
       "    function displayChart(vegaEmbed) {\n",
       "      vegaEmbed(outputDiv, spec, embedOpt)\n",
       "        .catch(err => showError(`Javascript Error: ${err.message}<br>This usually means there's a typo in your chart specification. See the javascript console for the full traceback.`));\n",
       "    }\n",
       "\n",
       "    if(typeof define === \"function\" && define.amd) {\n",
       "      requirejs.config({paths});\n",
       "      require([\"vega-embed\"], displayChart, err => showError(`Error loading script: ${err.message}`));\n",
       "    } else {\n",
       "      maybeLoadScript(\"vega\", \"5\")\n",
       "        .then(() => maybeLoadScript(\"vega-lite\", \"4.17.0\"))\n",
       "        .then(() => maybeLoadScript(\"vega-embed\", \"6\"))\n",
       "        .catch(showError)\n",
       "        .then(() => displayChart(vegaEmbed));\n",
       "    }\n",
       "  })({\"config\": {\"view\": {\"continuousWidth\": 400, \"continuousHeight\": 300}}, \"data\": {\"name\": \"data-cd7b3673d8c83a27f34009a8f687f2b6\"}, \"mark\": \"bar\", \"encoding\": {\"color\": {\"field\": \"Business_segment\", \"type\": \"nominal\"}, \"column\": {\"field\": \"Business_segment\", \"type\": \"nominal\"}, \"x\": {\"field\": \"Year\", \"title\": \"Year\", \"type\": \"ordinal\"}, \"y\": {\"axis\": {\"format\": \"%\"}, \"field\": \"Percent_growth\", \"title\": \"Percent Growth\", \"type\": \"quantitative\"}}, \"title\": \"Chart 1: Annual Percent Revenue Growth vs 1997 Baseline for Disney's Business Segments\", \"$schema\": \"https://vega.github.io/schema/vega-lite/v4.17.0.json\", \"datasets\": {\"data-cd7b3673d8c83a27f34009a8f687f2b6\": [{\"Year\": 1998, \"Business_segment\": \"Studio_entertainment\", \"Percent_growth\": -0.01890846583584016}, {\"Year\": 1999, \"Business_segment\": \"Studio_entertainment\", \"Percent_growth\": -0.06202549777968769}, {\"Year\": 2000, \"Business_segment\": \"Studio_entertainment\", \"Percent_growth\": -0.14138375590889563}, {\"Year\": 2001, \"Business_segment\": \"Studio_entertainment\", \"Percent_growth\": 0.0032946569259417746}, {\"Year\": 2002, \"Business_segment\": \"Studio_entertainment\", \"Percent_growth\": -0.07391491190373867}, {\"Year\": 2003, \"Business_segment\": \"Studio_entertainment\", \"Percent_growth\": 0.05486320011459678}, {\"Year\": 2004, \"Business_segment\": \"Studio_entertainment\", \"Percent_growth\": 0.24810199111875098}, {\"Year\": 2005, \"Business_segment\": \"Studio_entertainment\", \"Percent_growth\": 0.08680704770090242}, {\"Year\": 2006, \"Business_segment\": \"Studio_entertainment\", \"Percent_growth\": 0.078498782409397}, {\"Year\": 2007, \"Business_segment\": \"Studio_entertainment\", \"Percent_growth\": 0.07305543618392774}, {\"Year\": 2008, \"Business_segment\": \"Studio_entertainment\", \"Percent_growth\": 0.05257126486176755}, {\"Year\": 2009, \"Business_segment\": \"Studio_entertainment\", \"Percent_growth\": -0.12104283054003728}, {\"Year\": 2010, \"Business_segment\": \"Studio_entertainment\", \"Percent_growth\": -0.040108866924509434}, {\"Year\": 2011, \"Business_segment\": \"Studio_entertainment\", \"Percent_growth\": -0.09024495058014614}, {\"Year\": 2012, \"Business_segment\": \"Studio_entertainment\", \"Percent_growth\": -0.165592322016903}, {\"Year\": 2013, \"Business_segment\": \"Studio_entertainment\", \"Percent_growth\": -0.1435324452084229}, {\"Year\": 2014, \"Business_segment\": \"Studio_entertainment\", \"Percent_growth\": 0.04254404813064028}, {\"Year\": 2015, \"Business_segment\": \"Studio_entertainment\", \"Percent_growth\": 0.05514969202120046}, {\"Year\": 1998, \"Business_segment\": \"Consumer_products\", \"Percent_growth\": -0.15573770491803274}, {\"Year\": 1999, \"Business_segment\": \"Consumer_products\", \"Percent_growth\": -0.1988365943945003}, {\"Year\": 2000, \"Business_segment\": \"Consumer_products\", \"Percent_growth\": -0.31200423056583815}, {\"Year\": 2001, \"Business_segment\": \"Consumer_products\", \"Percent_growth\": -0.31517715494447385}, {\"Year\": 2002, \"Business_segment\": \"Consumer_products\", \"Percent_growth\": -0.3548387096774194}, {\"Year\": 2003, \"Business_segment\": \"Consumer_products\", \"Percent_growth\": -0.3802221047065045}, {\"Year\": 2004, \"Business_segment\": \"Consumer_products\", \"Percent_growth\": -0.33606557377049184}, {\"Year\": 2005, \"Business_segment\": \"Consumer_products\", \"Percent_growth\": -0.43759915388683235}, {\"Year\": 2006, \"Business_segment\": \"Consumer_products\", \"Percent_growth\": -0.4201480698043363}, {\"Year\": 2007, \"Business_segment\": \"Consumer_products\", \"Percent_growth\": -0.37942887361184563}, {\"Year\": 2008, \"Business_segment\": \"Consumer_products\", \"Percent_growth\": -0.361448968799577}, {\"Year\": 2009, \"Business_segment\": \"Consumer_products\", \"Percent_growth\": -0.35880486515071386}, {\"Year\": 2010, \"Business_segment\": \"Consumer_products\", \"Percent_growth\": -0.29190904283447916}, {\"Year\": 2011, \"Business_segment\": \"Consumer_products\", \"Percent_growth\": -0.19381279746166047}, {\"Year\": 2012, \"Business_segment\": \"Consumer_products\", \"Percent_growth\": -0.1401374933897409}, {\"Year\": 2013, \"Business_segment\": \"Consumer_products\", \"Percent_growth\": -0.06002115282919085}, {\"Year\": 2014, \"Business_segment\": \"Consumer_products\", \"Percent_growth\": 0.05367530407191956}, {\"Year\": 2015, \"Business_segment\": \"Consumer_products\", \"Percent_growth\": 0.18958223162347965}, {\"Year\": 1998, \"Business_segment\": \"Interactive\", \"Percent_growth\": 0.49425287356321834}, {\"Year\": 1999, \"Business_segment\": \"Interactive\", \"Percent_growth\": 0.1839080459770115}, {\"Year\": 2000, \"Business_segment\": \"Interactive\", \"Percent_growth\": 1.1149425287356323}, {\"Year\": 2001, \"Business_segment\": \"Interactive\", \"Percent_growth\": -1.0}, {\"Year\": 2002, \"Business_segment\": \"Interactive\", \"Percent_growth\": -1.0}, {\"Year\": 2003, \"Business_segment\": \"Interactive\", \"Percent_growth\": -1.0}, {\"Year\": 2004, \"Business_segment\": \"Interactive\", \"Percent_growth\": -1.0}, {\"Year\": 2005, \"Business_segment\": \"Interactive\", \"Percent_growth\": -1.0}, {\"Year\": 2006, \"Business_segment\": \"Interactive\", \"Percent_growth\": -1.0}, {\"Year\": 2007, \"Business_segment\": \"Interactive\", \"Percent_growth\": -1.0}, {\"Year\": 2008, \"Business_segment\": \"Interactive\", \"Percent_growth\": 3.1321839080459766}, {\"Year\": 2009, \"Business_segment\": \"Interactive\", \"Percent_growth\": 3.0919540229885056}, {\"Year\": 2010, \"Business_segment\": \"Interactive\", \"Percent_growth\": 3.373563218390805}, {\"Year\": 2011, \"Business_segment\": \"Interactive\", \"Percent_growth\": 4.64367816091954}, {\"Year\": 2012, \"Business_segment\": \"Interactive\", \"Percent_growth\": 3.8563218390804597}, {\"Year\": 2013, \"Business_segment\": \"Interactive\", \"Percent_growth\": 5.114942528735632}, {\"Year\": 2014, \"Business_segment\": \"Interactive\", \"Percent_growth\": 6.4655172413793105}, {\"Year\": 2015, \"Business_segment\": \"Interactive\", \"Percent_growth\": 5.747126436781609}, {\"Year\": 1998, \"Business_segment\": \"Parks_and_resorts\", \"Percent_growth\": 0.1033107299561229}, {\"Year\": 1999, \"Business_segment\": \"Parks_and_resorts\", \"Percent_growth\": 0.21779018747506984}, {\"Year\": 2000, \"Business_segment\": \"Parks_and_resorts\", \"Percent_growth\": 0.35680095731950545}, {\"Year\": 2001, \"Business_segment\": \"Parks_and_resorts\", \"Percent_growth\": 0.19844435580374942}, {\"Year\": 2002, \"Business_segment\": \"Parks_and_resorts\", \"Percent_growth\": 0.3344635021938571}, {\"Year\": 2003, \"Business_segment\": \"Parks_and_resorts\", \"Percent_growth\": 0.2788193059433586}, {\"Year\": 2004, \"Business_segment\": \"Parks_and_resorts\", \"Percent_growth\": 0.5456721180694057}, {\"Year\": 2005, \"Business_segment\": \"Parks_and_resorts\", \"Percent_growth\": 0.799561228560032}, {\"Year\": 2006, \"Business_segment\": \"Parks_and_resorts\", \"Percent_growth\": 0.9794575189469485}, {\"Year\": 2007, \"Business_segment\": \"Parks_and_resorts\", \"Percent_growth\": 1.1192660550458715}, {\"Year\": 2008, \"Business_segment\": \"Parks_and_resorts\", \"Percent_growth\": 1.2943757479058635}, {\"Year\": 2009, \"Business_segment\": \"Parks_and_resorts\", \"Percent_growth\": 1.1274431591543679}, {\"Year\": 2010, \"Business_segment\": \"Parks_and_resorts\", \"Percent_growth\": 1.1461906661348227}, {\"Year\": 2011, \"Business_segment\": \"Parks_and_resorts\", \"Percent_growth\": 1.352812126047068}, {\"Year\": 2012, \"Business_segment\": \"Parks_and_resorts\", \"Percent_growth\": 1.5767850019944158}, {\"Year\": 2013, \"Business_segment\": \"Parks_and_resorts\", \"Percent_growth\": 1.809533306741125}, {\"Year\": 2014, \"Business_segment\": \"Parks_and_resorts\", \"Percent_growth\": 2.011368169126446}, {\"Year\": 2015, \"Business_segment\": \"Parks_and_resorts\", \"Percent_growth\": 2.223374551256482}, {\"Year\": 1998, \"Business_segment\": \"Media_networks\", \"Percent_growth\": 0.09506286415210052}, {\"Year\": 1999, \"Business_segment\": \"Media_networks\", \"Percent_growth\": 0.1517939282428702}, {\"Year\": 2000, \"Business_segment\": \"Media_networks\", \"Percent_growth\": 0.4742410303587856}, {\"Year\": 2001, \"Business_segment\": \"Media_networks\", \"Percent_growth\": 0.4671879791475009}, {\"Year\": 2002, \"Business_segment\": \"Media_networks\", \"Percent_growth\": 0.49233363998773383}, {\"Year\": 2003, \"Business_segment\": \"Media_networks\", \"Percent_growth\": 0.6775528978840846}, {\"Year\": 2004, \"Business_segment\": \"Media_networks\", \"Percent_growth\": 0.8058877644894205}, {\"Year\": 2005, \"Business_segment\": \"Media_networks\", \"Percent_growth\": 1.0249923336399878}, {\"Year\": 2006, \"Business_segment\": \"Media_networks\", \"Percent_growth\": 1.2030052131248081}, {\"Year\": 2007, \"Business_segment\": \"Media_networks\", \"Percent_growth\": 1.3069610548911377}, {\"Year\": 2008, \"Business_segment\": \"Media_networks\", \"Percent_growth\": 1.4313094142900953}, {\"Year\": 2009, \"Business_segment\": \"Media_networks\", \"Percent_growth\": 1.4852805887764489}, {\"Year\": 2010, \"Business_segment\": \"Media_networks\", \"Percent_growth\": 1.6314014106102421}, {\"Year\": 2011, \"Business_segment\": \"Media_networks\", \"Percent_growth\": 1.8693652253909843}, {\"Year\": 2012, \"Business_segment\": \"Media_networks\", \"Percent_growth\": 1.980067463968108}, {\"Year\": 2013, \"Business_segment\": \"Media_networks\", \"Percent_growth\": 2.1211284881938055}, {\"Year\": 2014, \"Business_segment\": \"Media_networks\", \"Percent_growth\": 2.243176939589083}, {\"Year\": 2015, \"Business_segment\": \"Media_networks\", \"Percent_growth\": 2.5670039865072063}, {\"Year\": 1998, \"Business_segment\": \"Total\", \"Percent_growth\": 0.022382414452899013}, {\"Year\": 1999, \"Business_segment\": \"Total\", \"Percent_growth\": 0.04133849508298848}, {\"Year\": 2000, \"Business_segment\": \"Total\", \"Percent_growth\": 0.13033417879232867}, {\"Year\": 2001, \"Business_segment\": \"Total\", \"Percent_growth\": 0.14759934143194053}, {\"Year\": 2002, \"Business_segment\": \"Total\", \"Percent_growth\": 0.12846526943443237}, {\"Year\": 2003, \"Business_segment\": \"Total\", \"Percent_growth\": 0.2041560984292261}, {\"Year\": 2004, \"Business_segment\": \"Total\", \"Percent_growth\": 0.3683976327148133}, {\"Year\": 2005, \"Business_segment\": \"Total\", \"Percent_growth\": 0.42143906020558}, {\"Year\": 2006, \"Business_segment\": \"Total\", \"Percent_growth\": 0.5256085079873627}, {\"Year\": 2007, \"Business_segment\": \"Total\", \"Percent_growth\": 0.5801183642593335}, {\"Year\": 2008, \"Business_segment\": \"Total\", \"Percent_growth\": 0.6839318293062786}, {\"Year\": 2009, \"Business_segment\": \"Total\", \"Percent_growth\": 0.6085524852044675}, {\"Year\": 2010, \"Business_segment\": \"Total\", \"Percent_growth\": 0.6937213545143062}, {\"Year\": 2011, \"Business_segment\": \"Total\", \"Percent_growth\": 0.8196502469630222}, {\"Year\": 2012, \"Business_segment\": \"Total\", \"Percent_growth\": 0.8812797579317404}, {\"Year\": 2013, \"Business_segment\": \"Total\", \"Percent_growth\": 1.0042272949761935}, {\"Year\": 2014, \"Business_segment\": \"Total\", \"Percent_growth\": 1.172073154452009}, {\"Year\": 2015, \"Business_segment\": \"Total\", \"Percent_growth\": 1.334579272905264}]}}, {\"mode\": \"vega-lite\"});\n",
       "</script>"
      ],
      "text/plain": [
       "alt.Chart(...)"
      ]
     },
     "execution_count": 11,
     "metadata": {},
     "output_type": "execute_result"
    }
   ],
   "source": [
    "# Use altair to plot a bar chart with Business segement on the colour/column grouping\n",
    "Percent_growth_chart = (alt.Chart(revenue_melt)\n",
    "                        .mark_bar()\n",
    "                        .encode(x=alt.X('Year:O', title=\"Year\"),\n",
    "                                y=alt.Y('Percent_growth:Q', title=\"Percent Growth\", axis=alt.Axis(format='%')),\n",
    "                                color='Business_segment:N',\n",
    "                                column='Business_segment:N')\n",
    "                        .properties(title=\"Chart 1: Annual Percent Revenue Growth vs 1997 Baseline for Disney's Business Segments\"))\n",
    "Percent_growth_chart"
   ]
  },
  {
   "cell_type": "markdown",
   "metadata": {},
   "source": [
    "It appears that our original hypothesis is essentially correct. Other than a few years in 2001-2007 with missing data, the **Interactive** (gaming) business segment showed the most growth from 1997-2015, ending 2015 at ~575% growth vs. 1997. The next fastest growing segment was **Media Networks**, showing steady annual growth and ending at ~250% growth vs. 1997."
   ]
  },
  {
   "cell_type": "markdown",
   "metadata": {},
   "source": [
    "***"
   ]
  },
  {
   "cell_type": "markdown",
   "metadata": {},
   "source": [
    "Moving on to our second question, we need to join together the gross and director dataframes in order to attribute directors to the movies they directed. We will use an inner join, as there are some entries that do not have directors associated with the movie titles. We only want to analyze the movies that we have directors for. "
   ]
  },
  {
   "cell_type": "code",
   "execution_count": 11,
   "metadata": {},
   "outputs": [
    {
     "name": "stdout",
     "output_type": "stream",
     "text": [
      "<class 'pandas.core.frame.DataFrame'>\n",
      "Int64Index: 49 entries, 0 to 48\n",
      "Data columns (total 8 columns):\n",
      " #   Column                    Non-Null Count  Dtype \n",
      "---  ------                    --------------  ----- \n",
      " 0   Movie_title               49 non-null     object\n",
      " 1   Release_date              49 non-null     object\n",
      " 2   Genre                     48 non-null     object\n",
      " 3   MPAA_rating               42 non-null     object\n",
      " 4   Total_gross               49 non-null     object\n",
      " 5   Inflation_adjusted_gross  49 non-null     object\n",
      " 6   name                      49 non-null     object\n",
      " 7   director                  49 non-null     object\n",
      "dtypes: object(8)\n",
      "memory usage: 3.4+ KB\n"
     ]
    }
   ],
   "source": [
    "# Rename columns to standardize naming convention\n",
    "gross = gross.rename(columns={gross.columns[0]: 'Movie_title',\n",
    "                              gross.columns[1]: 'Release_date',\n",
    "                              gross.columns[2]: 'Genre',\n",
    "                              gross.columns[3]: 'MPAA_rating',\n",
    "                              gross.columns[4]: 'Total_gross',\n",
    "                              gross.columns[5]: 'Inflation_adjusted_gross'})\n",
    "\n",
    "# Join gross revenue dataframe with director dataframe using inner join\n",
    "gross_director = gross.merge(director, left_on=\"Movie_title\", right_on=\"name\", how='inner')\n",
    "gross_director.info()"
   ]
  },
  {
   "cell_type": "markdown",
   "metadata": {},
   "source": [
    "It appears all the data in our dataframe is of Dtype object / string. We want to convert the `Release_date` column to datetime and the `Inflation_adjusted_gross` column to float, so that we can perform operations more easily"
   ]
  },
  {
   "cell_type": "code",
   "execution_count": 12,
   "metadata": {},
   "outputs": [],
   "source": [
    "# Convert Release_date column to datetime to facilitate min/max operations\n",
    "gross_director = gross_director.assign(Release_date=pd.to_datetime(gross_director['Release_date']))\n",
    "\n",
    "# Remove dollar signs and commas from Inflation_adjusted_gross column then convert to float to facilitate sum calculations, and to millions of dollars to improve readability\n",
    "gross_director.loc[:, 'Inflation_adjusted_gross'] = gross_director['Inflation_adjusted_gross'].str.replace(\",\", \"\")\n",
    "gross_director.loc[:, 'Inflation_adjusted_gross'] = gross_director['Inflation_adjusted_gross'].str.replace(\"$\", \"\", regex=True).astype(float)/1000000"
   ]
  },
  {
   "cell_type": "markdown",
   "metadata": {},
   "source": [
    "Now that we've cleaned up our data, we can analyze our data to answer our question. First we group by director, then aggregate in order to find the sum of `Inflation_adjusted_gross`, as well as the min and max of `Release_date`. We will also sort the data by sum of gross revenue and filter on the first 5 rows, which will isolate and display the top 5 directors by inflation adjusted gross revenue."
   ]
  },
  {
   "cell_type": "code",
   "execution_count": 13,
   "metadata": {
    "tags": []
   },
   "outputs": [
    {
     "data": {
      "text/html": [
       "<div>\n",
       "<style scoped>\n",
       "    .dataframe tbody tr th:only-of-type {\n",
       "        vertical-align: middle;\n",
       "    }\n",
       "\n",
       "    .dataframe tbody tr th {\n",
       "        vertical-align: top;\n",
       "    }\n",
       "\n",
       "    .dataframe thead tr th {\n",
       "        text-align: left;\n",
       "    }\n",
       "\n",
       "    .dataframe thead tr:last-of-type th {\n",
       "        text-align: right;\n",
       "    }\n",
       "</style>\n",
       "<table border=\"1\" class=\"dataframe\">\n",
       "  <thead>\n",
       "    <tr>\n",
       "      <th></th>\n",
       "      <th>Inflation_adjusted_gross</th>\n",
       "      <th colspan=\"2\" halign=\"left\">Release_date</th>\n",
       "    </tr>\n",
       "    <tr>\n",
       "      <th></th>\n",
       "      <th>sum</th>\n",
       "      <th>min</th>\n",
       "      <th>max</th>\n",
       "    </tr>\n",
       "    <tr>\n",
       "      <th>director</th>\n",
       "      <th></th>\n",
       "      <th></th>\n",
       "      <th></th>\n",
       "    </tr>\n",
       "  </thead>\n",
       "  <tbody>\n",
       "    <tr>\n",
       "      <th>David Hand</th>\n",
       "      <td>5228.953251</td>\n",
       "      <td>1937-12-21</td>\n",
       "      <td>1937-12-21</td>\n",
       "    </tr>\n",
       "    <tr>\n",
       "      <th>Wolfgang Reitherman</th>\n",
       "      <td>3432.919920</td>\n",
       "      <td>1961-01-25</td>\n",
       "      <td>2016-04-15</td>\n",
       "    </tr>\n",
       "    <tr>\n",
       "      <th>Ben Sharpsteen</th>\n",
       "      <td>2188.229052</td>\n",
       "      <td>1940-02-09</td>\n",
       "      <td>1940-02-09</td>\n",
       "    </tr>\n",
       "    <tr>\n",
       "      <th>full credits</th>\n",
       "      <td>2187.090808</td>\n",
       "      <td>1940-11-13</td>\n",
       "      <td>1940-11-13</td>\n",
       "    </tr>\n",
       "    <tr>\n",
       "      <th>Ron Clements</th>\n",
       "      <td>1318.949600</td>\n",
       "      <td>1986-07-02</td>\n",
       "      <td>2016-11-23</td>\n",
       "    </tr>\n",
       "  </tbody>\n",
       "</table>\n",
       "</div>"
      ],
      "text/plain": [
       "                    Inflation_adjusted_gross Release_date           \n",
       "                                         sum          min        max\n",
       "director                                                            \n",
       "David Hand                       5228.953251   1937-12-21 1937-12-21\n",
       "Wolfgang Reitherman              3432.919920   1961-01-25 2016-04-15\n",
       "Ben Sharpsteen                   2188.229052   1940-02-09 1940-02-09\n",
       "full credits                     2187.090808   1940-11-13 1940-11-13\n",
       "Ron Clements                     1318.949600   1986-07-02 2016-11-23"
      ]
     },
     "execution_count": 13,
     "metadata": {},
     "output_type": "execute_result"
    }
   ],
   "source": [
    "# Import our groupby and aggregating function\n",
    "# Group by director and aggregate to understand the gross revenue per director, as well as the oldest and newest releases of their films. Sort by highest sum of gross revenue.\n",
    "from group_agg_script import group_agg\n",
    "\n",
    "gross_director_agg = group_agg(gross_director, \"director\", \"Inflation_adjusted_gross\", \"Release_date\", ['sum'], ['min', 'max'])\n",
    "\n",
    "gross_director_agg.sort_values(by=('Inflation_adjusted_gross', 'sum'), ascending=False).iloc[0:5, :]"
   ]
  },
  {
   "cell_type": "markdown",
   "metadata": {},
   "source": [
    "It appears that, on a time value of money adjusted basis, some of the older directors have the highest revenue for disney. Let's visualize the data."
   ]
  },
  {
   "cell_type": "code",
   "execution_count": 14,
   "metadata": {},
   "outputs": [
    {
     "data": {
      "text/html": [
       "\n",
       "<div id=\"altair-viz-adac8c4132a54efba07245de0a62525d\"></div>\n",
       "<script type=\"text/javascript\">\n",
       "  (function(spec, embedOpt){\n",
       "    let outputDiv = document.currentScript.previousElementSibling;\n",
       "    if (outputDiv.id !== \"altair-viz-adac8c4132a54efba07245de0a62525d\") {\n",
       "      outputDiv = document.getElementById(\"altair-viz-adac8c4132a54efba07245de0a62525d\");\n",
       "    }\n",
       "    const paths = {\n",
       "      \"vega\": \"https://cdn.jsdelivr.net/npm//vega@5?noext\",\n",
       "      \"vega-lib\": \"https://cdn.jsdelivr.net/npm//vega-lib?noext\",\n",
       "      \"vega-lite\": \"https://cdn.jsdelivr.net/npm//vega-lite@4.8.1?noext\",\n",
       "      \"vega-embed\": \"https://cdn.jsdelivr.net/npm//vega-embed@6?noext\",\n",
       "    };\n",
       "\n",
       "    function loadScript(lib) {\n",
       "      return new Promise(function(resolve, reject) {\n",
       "        var s = document.createElement('script');\n",
       "        s.src = paths[lib];\n",
       "        s.async = true;\n",
       "        s.onload = () => resolve(paths[lib]);\n",
       "        s.onerror = () => reject(`Error loading script: ${paths[lib]}`);\n",
       "        document.getElementsByTagName(\"head\")[0].appendChild(s);\n",
       "      });\n",
       "    }\n",
       "\n",
       "    function showError(err) {\n",
       "      outputDiv.innerHTML = `<div class=\"error\" style=\"color:red;\">${err}</div>`;\n",
       "      throw err;\n",
       "    }\n",
       "\n",
       "    function displayChart(vegaEmbed) {\n",
       "      vegaEmbed(outputDiv, spec, embedOpt)\n",
       "        .catch(err => showError(`Javascript Error: ${err.message}<br>This usually means there's a typo in your chart specification. See the javascript console for the full traceback.`));\n",
       "    }\n",
       "\n",
       "    if(typeof define === \"function\" && define.amd) {\n",
       "      requirejs.config({paths});\n",
       "      require([\"vega-embed\"], displayChart, err => showError(`Error loading script: ${err.message}`));\n",
       "    } else if (typeof vegaEmbed === \"function\") {\n",
       "      displayChart(vegaEmbed);\n",
       "    } else {\n",
       "      loadScript(\"vega\")\n",
       "        .then(() => loadScript(\"vega-lite\"))\n",
       "        .then(() => loadScript(\"vega-embed\"))\n",
       "        .catch(showError)\n",
       "        .then(() => displayChart(vegaEmbed));\n",
       "    }\n",
       "  })({\"config\": {\"view\": {\"continuousWidth\": 400, \"continuousHeight\": 300}}, \"data\": {\"name\": \"data-bb90a6eda04ae96f6da5b54e74b1156f\"}, \"mark\": \"bar\", \"encoding\": {\"x\": {\"type\": \"nominal\", \"field\": \"director_\", \"sort\": \"-y\", \"title\": \"Director\"}, \"y\": {\"type\": \"quantitative\", \"field\": \"Inflation_adjusted_gross_sum\", \"title\": \"Inflation Adjusted Gross ($M USD)\"}}, \"height\": 300, \"title\": \"Chart 2: Top 5 Disney Movie Directors Ranked by Sum of Inflation Adjusted Gross Revenue (1937-2016)\", \"width\": 500, \"$schema\": \"https://vega.github.io/schema/vega-lite/v4.8.1.json\", \"datasets\": {\"data-bb90a6eda04ae96f6da5b54e74b1156f\": [{\"director_\": \"David Hand\", \"Inflation_adjusted_gross_sum\": 5228.953251, \"Release_date_min\": \"1937-12-21T00:00:00\", \"Release_date_max\": \"1937-12-21T00:00:00\"}, {\"director_\": \"Wolfgang Reitherman\", \"Inflation_adjusted_gross_sum\": 3432.91992, \"Release_date_min\": \"1961-01-25T00:00:00\", \"Release_date_max\": \"2016-04-15T00:00:00\"}, {\"director_\": \"Ben Sharpsteen\", \"Inflation_adjusted_gross_sum\": 2188.229052, \"Release_date_min\": \"1940-02-09T00:00:00\", \"Release_date_max\": \"1940-02-09T00:00:00\"}, {\"director_\": \"full credits\", \"Inflation_adjusted_gross_sum\": 2187.090808, \"Release_date_min\": \"1940-11-13T00:00:00\", \"Release_date_max\": \"1940-11-13T00:00:00\"}, {\"director_\": \"Ron Clements\", \"Inflation_adjusted_gross_sum\": 1318.9496, \"Release_date_min\": \"1986-07-02T00:00:00\", \"Release_date_max\": \"2016-11-23T00:00:00\"}]}}, {\"mode\": \"vega-lite\"});\n",
       "</script>"
      ],
      "text/plain": [
       "alt.Chart(...)"
      ]
     },
     "execution_count": 14,
     "metadata": {},
     "output_type": "execute_result"
    }
   ],
   "source": [
    "# Reset index to facilitate plotting\n",
    "gross_director_plot_data = gross_director_agg.sort_values(by=('Inflation_adjusted_gross', 'sum'), ascending=False).iloc[0:5, :].reset_index()\n",
    "\n",
    "# Flatten multi-index column headers from the aggregating functions above, combining the header levels with an underscore\n",
    "gross_director_plot_data.columns = gross_director_plot_data.columns.map('_'.join)\n",
    "\n",
    "# Plot the data and display!\n",
    "gross_director_plot = (alt.Chart(gross_director_plot_data, width=500, height=300)\n",
    "                       .mark_bar()\n",
    "                       .encode(x=alt.X('director_:N', title=\"Director\", sort=\"-y\"),\n",
    "                               y=alt.Y('Inflation_adjusted_gross_sum:Q', title=\"Inflation Adjusted Gross ($M USD)\"))\n",
    "                       .properties(title=\"Chart 2: Top 5 Disney Movie Directors Ranked by Sum of Inflation Adjusted Gross Revenue (1937-2016)\"))\n",
    "gross_director_plot"
   ]
  },
  {
   "cell_type": "markdown",
   "metadata": {},
   "source": [
    "## Discussion\n",
    "\n",
    "In this analysis, I looked at the Disney datasets to answer two main questions. One, how have the contributions of Disney's business segments changed over time, and is Disney Studios (one of the most recognizable elements of their company) their largest business? Two, who are the top 5 Disney directors ranked by total gross revenue, and in which time periods did they direct?\n",
    "\n",
    "For the first question, I discovered that **Disney Studios** is only the third largest business segment since 1991, ranking behind the **Media Networks** and **Parks & Resorts** segments. In terms of growth, I confirmed my initial hypothesis that their digital focused business segments grew significantly more quickly than their more traditional business segments since 1997. Their **Interactive** (gaming) segment grew by almost 600%, and their **Media Networks** segment grew by approximately 250%. This compares very favourably to their **Total** overall revenue growth of approximately 130% since 1997. I would expect that Disney will continue to invest more money into these fast growing business segments to maximize revenue growth.\n",
    "\n",
    "For the second question, I was surprised to find that the highest revenue directors were skewed towards Disney's older films. None of the top 5 directors started directing movies after 2000, and 4 of the 5 directors started directing before 1970. Note that \"full credits\" is a missing data point that refers to the movie Fantasia in 1940. Another interesting phenomenon is that **Wolfgang Reitherman** appears to have directed movies for 55 years, however that is due to re-releases of older movies. A potential future analysis could remove those re-releases from the total gross revenue and compare only the first release of each unique movie title to more fairly compare the directors. This analysis could potentially identify whether modernizing older films generates more revenue than creating new original films."
   ]
  },
  {
   "cell_type": "markdown",
   "metadata": {},
   "source": [
    "## References\n",
    "* All the work in this project is original. Data sources are listed below.\n",
    "### Resources Used\n",
    "* [Disney Data Source](https://data.world/kgarrett/disney-character-success-00-16)\n",
    "    * Dataset created by Kelly Garrett, hosted on data.world"
   ]
  }
 ],
 "metadata": {
  "kernelspec": {
   "display_name": "Python 3",
   "language": "python",
   "name": "python3"
  },
  "language_info": {
   "codemirror_mode": {
    "name": "ipython",
    "version": 3
   },
   "file_extension": ".py",
   "mimetype": "text/x-python",
   "name": "python",
   "nbconvert_exporter": "python",
   "pygments_lexer": "ipython3",
   "version": "3.8.3"
  }
 },
 "nbformat": 4,
 "nbformat_minor": 4
}
